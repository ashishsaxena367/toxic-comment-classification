{
  "nbformat": 4,
  "nbformat_minor": 0,
  "metadata": {
    "kernelspec": {
      "name": "python3",
      "display_name": "Python 3",
      "language": "python"
    },
    "language_info": {
      "name": "python",
      "version": "3.7.6",
      "mimetype": "text/x-python",
      "codemirror_mode": {
        "name": "ipython",
        "version": 3
      },
      "pygments_lexer": "ipython3",
      "nbconvert_exporter": "python",
      "file_extension": ".py"
    },
    "colab": {
      "name": "kernel52ae511b55 (1).ipynb",
      "provenance": [],
      "collapsed_sections": []
    }
  },
  "cells": [
    {
      "cell_type": "markdown",
      "metadata": {
        "id": "rqF3yIINm2T_",
        "colab_type": "text"
      },
      "source": [
        "The Toxic comment classification project aims at predicting a comment as posted on online platforms to be toxic and at varous levels like toxic, severe toxic, insult, obscene , threat and identity hate. The solution will help identify a toxic comment so that administrative actions can be taken and the toxic comment be removed from the platform to to reduce damage to online interactions. The problem is a classic classification problem of identifyting whether a text has toxicity. The data source to design and create a model is the coversation and comment history from Wikipedia, where user comments have been lableled by human actors to inidcate the level of toxicity , if present in the dataset."
      ]
    },
    {
      "cell_type": "code",
      "metadata": {
        "_uuid": "8f2839f25d086af736a60e9eeb907d3b93b6e0e5",
        "_cell_guid": "b1076dfc-b9ad-4769-8c92-a6c4dae69d19",
        "trusted": true,
        "id": "4jhaiwAgm2UB",
        "colab_type": "code",
        "colab": {},
        "outputId": "bbdebda4-5edd-464e-eadb-470f82df4c45"
      },
      "source": [
        "# This Python 3 environment comes with many helpful analytics libraries installed\n",
        "# It is defined by the kaggle/python Docker image: https://github.com/kaggle/docker-python\n",
        "# For example, here's several helpful packages to load\n",
        "\n",
        "import numpy as np # linear algebra\n",
        "import pandas as pd # data processing, CSV file I/O (e.g. pd.read_csv)\n",
        "\n",
        "# Input data files are available in the read-only \"../input/\" directory\n",
        "# For example, running this (by clicking run or pressing Shift+Enter) will list all files under the input directory\n",
        "\n",
        "import os\n",
        "for dirname, _, filenames in os.walk('/kaggle/input'):\n",
        "    for filename in filenames:\n",
        "        print(os.path.join(dirname, filename))\n",
        "\n",
        "# You can write up to 5GB to the current directory (/kaggle/working/) that gets preserved as output when you create a version using \"Save & Run All\" \n",
        "# You can also write temporary files to /kaggle/temp/, but they won't be saved outside of the current session"
      ],
      "execution_count": null,
      "outputs": [
        {
          "output_type": "stream",
          "text": [
            "/kaggle/input/jigsaw-toxic-comment-classification-challenge/test_labels.csv.zip\n",
            "/kaggle/input/jigsaw-toxic-comment-classification-challenge/train.csv.zip\n",
            "/kaggle/input/jigsaw-toxic-comment-classification-challenge/test.csv.zip\n",
            "/kaggle/input/jigsaw-toxic-comment-classification-challenge/sample_submission.csv.zip\n"
          ],
          "name": "stdout"
        }
      ]
    },
    {
      "cell_type": "code",
      "metadata": {
        "_uuid": "d629ff2d2480ee46fbb7e2d37f6b5fab8052498a",
        "_cell_guid": "79c7e3d0-c299-4dcb-8224-4455121ee9b0",
        "trusted": true,
        "id": "J8HNHoTom2UM",
        "colab_type": "code",
        "colab": {}
      },
      "source": [
        "%matplotlib inline\n",
        "from keras import *"
      ],
      "execution_count": null,
      "outputs": []
    },
    {
      "cell_type": "markdown",
      "metadata": {
        "id": "lr7Z1Vq8m2UR",
        "colab_type": "text"
      },
      "source": [
        ""
      ]
    },
    {
      "cell_type": "markdown",
      "metadata": {
        "id": "wun2w8c4m2US",
        "colab_type": "text"
      },
      "source": [
        "Lets first load the data for the train and test set"
      ]
    },
    {
      "cell_type": "code",
      "metadata": {
        "trusted": true,
        "id": "b8KCqOfCm2UU",
        "colab_type": "code",
        "colab": {}
      },
      "source": [
        "train = pd.read_csv('/kaggle/input/jigsaw-toxic-comment-classification-challenge/train.csv.zip')\n",
        "test = pd.read_csv('/kaggle/input/jigsaw-toxic-comment-classification-challenge/test.csv.zip')\n"
      ],
      "execution_count": null,
      "outputs": []
    },
    {
      "cell_type": "markdown",
      "metadata": {
        "id": "sIaZNJe6m2Ua",
        "colab_type": "text"
      },
      "source": [
        "I will do some now do some EDA to get an idea of the training data, first sample, then columns, then shape and finally to see if we have any null conent on any columns that can impact our model."
      ]
    },
    {
      "cell_type": "code",
      "metadata": {
        "trusted": true,
        "id": "yfWfLCuBm2Uf",
        "colab_type": "code",
        "colab": {},
        "outputId": "28b64772-3620-4015-a1f0-8c1581d764d6"
      },
      "source": [
        "train.sample(5)"
      ],
      "execution_count": null,
      "outputs": [
        {
          "output_type": "execute_result",
          "data": {
            "text/plain": [
              "                      id                                       comment_text  \\\n",
              "115941  6be616c9a8d17672  \"\\n\\n Guinness \\n\\nHi. I found you in the Wiki...   \n",
              "14758   26f9e5d1b6b6ada1  Actually, butlers do buttle, though this is a ...   \n",
              "114639  6528541cae23d52f  , first is in relation to Quiver_(mathematics)...   \n",
              "90469   f21980cd133f147b  CBNG irc reporting request \\n\\nI would like  a...   \n",
              "128482  af29e818d6fda430  why you blocking when i am fixing the pages? \\...   \n",
              "\n",
              "        toxic  severe_toxic  obscene  threat  insult  identity_hate  \n",
              "115941      0             0        0       0       0              0  \n",
              "14758       0             0        0       0       0              0  \n",
              "114639      0             0        0       0       0              0  \n",
              "90469       0             0        0       0       0              0  \n",
              "128482      0             0        0       0       0              0  "
            ],
            "text/html": [
              "<div>\n",
              "<style scoped>\n",
              "    .dataframe tbody tr th:only-of-type {\n",
              "        vertical-align: middle;\n",
              "    }\n",
              "\n",
              "    .dataframe tbody tr th {\n",
              "        vertical-align: top;\n",
              "    }\n",
              "\n",
              "    .dataframe thead th {\n",
              "        text-align: right;\n",
              "    }\n",
              "</style>\n",
              "<table border=\"1\" class=\"dataframe\">\n",
              "  <thead>\n",
              "    <tr style=\"text-align: right;\">\n",
              "      <th></th>\n",
              "      <th>id</th>\n",
              "      <th>comment_text</th>\n",
              "      <th>toxic</th>\n",
              "      <th>severe_toxic</th>\n",
              "      <th>obscene</th>\n",
              "      <th>threat</th>\n",
              "      <th>insult</th>\n",
              "      <th>identity_hate</th>\n",
              "    </tr>\n",
              "  </thead>\n",
              "  <tbody>\n",
              "    <tr>\n",
              "      <th>115941</th>\n",
              "      <td>6be616c9a8d17672</td>\n",
              "      <td>\"\\n\\n Guinness \\n\\nHi. I found you in the Wiki...</td>\n",
              "      <td>0</td>\n",
              "      <td>0</td>\n",
              "      <td>0</td>\n",
              "      <td>0</td>\n",
              "      <td>0</td>\n",
              "      <td>0</td>\n",
              "    </tr>\n",
              "    <tr>\n",
              "      <th>14758</th>\n",
              "      <td>26f9e5d1b6b6ada1</td>\n",
              "      <td>Actually, butlers do buttle, though this is a ...</td>\n",
              "      <td>0</td>\n",
              "      <td>0</td>\n",
              "      <td>0</td>\n",
              "      <td>0</td>\n",
              "      <td>0</td>\n",
              "      <td>0</td>\n",
              "    </tr>\n",
              "    <tr>\n",
              "      <th>114639</th>\n",
              "      <td>6528541cae23d52f</td>\n",
              "      <td>, first is in relation to Quiver_(mathematics)...</td>\n",
              "      <td>0</td>\n",
              "      <td>0</td>\n",
              "      <td>0</td>\n",
              "      <td>0</td>\n",
              "      <td>0</td>\n",
              "      <td>0</td>\n",
              "    </tr>\n",
              "    <tr>\n",
              "      <th>90469</th>\n",
              "      <td>f21980cd133f147b</td>\n",
              "      <td>CBNG irc reporting request \\n\\nI would like  a...</td>\n",
              "      <td>0</td>\n",
              "      <td>0</td>\n",
              "      <td>0</td>\n",
              "      <td>0</td>\n",
              "      <td>0</td>\n",
              "      <td>0</td>\n",
              "    </tr>\n",
              "    <tr>\n",
              "      <th>128482</th>\n",
              "      <td>af29e818d6fda430</td>\n",
              "      <td>why you blocking when i am fixing the pages? \\...</td>\n",
              "      <td>0</td>\n",
              "      <td>0</td>\n",
              "      <td>0</td>\n",
              "      <td>0</td>\n",
              "      <td>0</td>\n",
              "      <td>0</td>\n",
              "    </tr>\n",
              "  </tbody>\n",
              "</table>\n",
              "</div>"
            ]
          },
          "metadata": {
            "tags": []
          },
          "execution_count": 15
        }
      ]
    },
    {
      "cell_type": "code",
      "metadata": {
        "trusted": true,
        "id": "TPas7-17m2Um",
        "colab_type": "code",
        "colab": {},
        "outputId": "ac2e083c-bf11-4f77-fc5b-0155b5dec439"
      },
      "source": [
        "train.columns"
      ],
      "execution_count": null,
      "outputs": [
        {
          "output_type": "execute_result",
          "data": {
            "text/plain": [
              "Index(['id', 'comment_text', 'toxic', 'severe_toxic', 'obscene', 'threat',\n",
              "       'insult', 'identity_hate'],\n",
              "      dtype='object')"
            ]
          },
          "metadata": {
            "tags": []
          },
          "execution_count": 17
        }
      ]
    },
    {
      "cell_type": "code",
      "metadata": {
        "trusted": true,
        "id": "Z44_fcUem2Uw",
        "colab_type": "code",
        "colab": {},
        "outputId": "93a198c6-6e70-48a5-d55c-e8e9ad55ce3c"
      },
      "source": [
        "train.shape"
      ],
      "execution_count": null,
      "outputs": [
        {
          "output_type": "execute_result",
          "data": {
            "text/plain": [
              "(159571, 8)"
            ]
          },
          "metadata": {
            "tags": []
          },
          "execution_count": 19
        }
      ]
    },
    {
      "cell_type": "code",
      "metadata": {
        "trusted": true,
        "id": "KJFV6y-7m2U2",
        "colab_type": "code",
        "colab": {},
        "outputId": "c99c22ce-3668-46ba-c76a-ee275e49d5d2"
      },
      "source": [
        "train.info()"
      ],
      "execution_count": null,
      "outputs": [
        {
          "output_type": "stream",
          "text": [
            "<class 'pandas.core.frame.DataFrame'>\n",
            "RangeIndex: 159571 entries, 0 to 159570\n",
            "Data columns (total 8 columns):\n",
            " #   Column         Non-Null Count   Dtype \n",
            "---  ------         --------------   ----- \n",
            " 0   id             159571 non-null  object\n",
            " 1   comment_text   159571 non-null  object\n",
            " 2   toxic          159571 non-null  int64 \n",
            " 3   severe_toxic   159571 non-null  int64 \n",
            " 4   obscene        159571 non-null  int64 \n",
            " 5   threat         159571 non-null  int64 \n",
            " 6   insult         159571 non-null  int64 \n",
            " 7   identity_hate  159571 non-null  int64 \n",
            "dtypes: int64(6), object(2)\n",
            "memory usage: 9.7+ MB\n"
          ],
          "name": "stdout"
        }
      ]
    },
    {
      "cell_type": "markdown",
      "metadata": {
        "id": "qqkAXVd4m2U8",
        "colab_type": "text"
      },
      "source": [
        "The data thus looks good, free of any null content. There are 8 columns, including id, comment text followed by six levels toxicity indicated by number."
      ]
    },
    {
      "cell_type": "code",
      "metadata": {
        "trusted": true,
        "id": "HSv1i-uLm2U9",
        "colab_type": "code",
        "colab": {},
        "outputId": "714725cd-3060-4f55-da54-8eec8b583105"
      },
      "source": [
        "train.toxic.describe()"
      ],
      "execution_count": null,
      "outputs": [
        {
          "output_type": "execute_result",
          "data": {
            "text/plain": [
              "count    159571.000000\n",
              "mean          0.095844\n",
              "std           0.294379\n",
              "min           0.000000\n",
              "25%           0.000000\n",
              "50%           0.000000\n",
              "75%           0.000000\n",
              "max           1.000000\n",
              "Name: toxic, dtype: float64"
            ]
          },
          "metadata": {
            "tags": []
          },
          "execution_count": 23
        }
      ]
    },
    {
      "cell_type": "markdown",
      "metadata": {
        "id": "zYhzxLv5m2VC",
        "colab_type": "text"
      },
      "source": [
        "You wont like to read the output of the follwoing but i wanted to see the data. Converting it to count, to remove the actual messages."
      ]
    },
    {
      "cell_type": "code",
      "metadata": {
        "trusted": true,
        "id": "6ZBTyv_Um2VD",
        "colab_type": "code",
        "colab": {},
        "outputId": "9bc246a8-32b3-46d2-b9ed-897ea6dd72a4"
      },
      "source": [
        "train.loc[train['toxic']==1].count()\n",
        "train.loc[train['toxic']==0].count()\n",
        "train.loc[train['toxic']<1].count()\n",
        "train.loc[train['toxic']==1].count()"
      ],
      "execution_count": null,
      "outputs": [
        {
          "output_type": "execute_result",
          "data": {
            "text/plain": [
              "id               15294\n",
              "comment_text     15294\n",
              "toxic            15294\n",
              "severe_toxic     15294\n",
              "obscene          15294\n",
              "threat           15294\n",
              "insult           15294\n",
              "identity_hate    15294\n",
              "dtype: int64"
            ]
          },
          "metadata": {
            "tags": []
          },
          "execution_count": 46
        }
      ]
    },
    {
      "cell_type": "markdown",
      "metadata": {
        "id": "HO_T-WmUm2VI",
        "colab_type": "text"
      },
      "source": [
        "Lets plot individual comment type toxicity to get an idea"
      ]
    },
    {
      "cell_type": "code",
      "metadata": {
        "trusted": true,
        "id": "8lngMORZm2VJ",
        "colab_type": "code",
        "colab": {},
        "outputId": "49d26029-d401-43fe-f604-e617963efc05"
      },
      "source": [
        "train['toxic'].plot(kind = 'hist' , bins =20, figsize=(12,6), facecolor='grey', edgecolor='black')"
      ],
      "execution_count": null,
      "outputs": [
        {
          "output_type": "execute_result",
          "data": {
            "text/plain": [
              "<matplotlib.axes._subplots.AxesSubplot at 0x7fe6919d2b90>"
            ]
          },
          "metadata": {
            "tags": []
          },
          "execution_count": 47
        },
        {
          "output_type": "display_data",
          "data": {
            "text/plain": [
              "<Figure size 864x432 with 1 Axes>"
            ],
            "image/png": "[encoded data removed]"
          },
          "metadata": {
            "tags": [],
            "needs_background": "light"
          }
        }
      ]
    },
    {
      "cell_type": "code",
      "metadata": {
        "trusted": true,
        "id": "vzWPrV8rm2VR",
        "colab_type": "code",
        "colab": {},
        "outputId": "62607dc4-ef0a-462c-92de-4ab8679aaddd"
      },
      "source": [
        "train['severe_toxic'].plot(kind = 'hist' , bins =20, figsize=(12,6), facecolor='grey', edgecolor='black')"
      ],
      "execution_count": null,
      "outputs": [
        {
          "output_type": "execute_result",
          "data": {
            "text/plain": [
              "<matplotlib.axes._subplots.AxesSubplot at 0x7fe6b5772450>"
            ]
          },
          "metadata": {
            "tags": []
          },
          "execution_count": 49
        },
        {
          "output_type": "display_data",
          "data": {
            "text/plain": [
              "<Figure size 864x432 with 1 Axes>"
            ],
            "image/png": "[encoded data removed]"
          },
          "metadata": {
            "tags": [],
            "needs_background": "light"
          }
        }
      ]
    },
    {
      "cell_type": "code",
      "metadata": {
        "trusted": true,
        "id": "ekjrzPxrm2VW",
        "colab_type": "code",
        "colab": {},
        "outputId": "1049498c-a5e3-45f2-eaaa-eef1f6ef0c0a"
      },
      "source": [
        "train['obscene'].plot(kind = 'hist' , bins =20, figsize=(12,6), facecolor='grey', edgecolor='black')          "
      ],
      "execution_count": null,
      "outputs": [
        {
          "output_type": "execute_result",
          "data": {
            "text/plain": [
              "<matplotlib.axes._subplots.AxesSubplot at 0x7fe6916ee110>"
            ]
          },
          "metadata": {
            "tags": []
          },
          "execution_count": 50
        },
        {
          "output_type": "display_data",
          "data": {
            "text/plain": [
              "<Figure size 864x432 with 1 Axes>"
            ],
            "image/png": "[encoded data removed]"
          },
          "metadata": {
            "tags": [],
            "needs_background": "light"
          }
        }
      ]
    },
    {
      "cell_type": "code",
      "metadata": {
        "trusted": true,
        "id": "KHk6Xiiom2Vb",
        "colab_type": "code",
        "colab": {},
        "outputId": "0d085cdd-9a39-4a93-eea2-572f174ea3e6"
      },
      "source": [
        "train['threat'].plot(kind = 'hist' , bins =20, figsize=(12,6), facecolor='grey', edgecolor='black')  "
      ],
      "execution_count": null,
      "outputs": [
        {
          "output_type": "execute_result",
          "data": {
            "text/plain": [
              "<matplotlib.axes._subplots.AxesSubplot at 0x7fe691608f90>"
            ]
          },
          "metadata": {
            "tags": []
          },
          "execution_count": 51
        },
        {
          "output_type": "display_data",
          "data": {
            "text/plain": [
              "<Figure size 864x432 with 1 Axes>"
            ],
            "image/png": "[encoded data removed]"
          },
          "metadata": {
            "tags": [],
            "needs_background": "light"
          }
        }
      ]
    },
    {
      "cell_type": "code",
      "metadata": {
        "trusted": true,
        "id": "idW674B-m2Vh",
        "colab_type": "code",
        "colab": {},
        "outputId": "5af757b4-6433-4e3b-a0c0-8bc4c0c489e6"
      },
      "source": [
        "train['insult'].plot(kind = 'hist' , bins =20, figsize=(12,6), facecolor='grey', edgecolor='black')  "
      ],
      "execution_count": null,
      "outputs": [
        {
          "output_type": "execute_result",
          "data": {
            "text/plain": [
              "<matplotlib.axes._subplots.AxesSubplot at 0x7fe69159c610>"
            ]
          },
          "metadata": {
            "tags": []
          },
          "execution_count": 52
        },
        {
          "output_type": "display_data",
          "data": {
            "text/plain": [
              "<Figure size 864x432 with 1 Axes>"
            ],
            "image/png": "[encoded data removed]"
          },
          "metadata": {
            "tags": [],
            "needs_background": "light"
          }
        }
      ]
    },
    {
      "cell_type": "code",
      "metadata": {
        "trusted": true,
        "id": "YQjx-tUIm2Vn",
        "colab_type": "code",
        "colab": {},
        "outputId": "8d282c91-8632-4197-8eb9-7e37fc49d156"
      },
      "source": [
        "train['identity_hate'].plot(kind = 'hist' , bins =20, figsize=(12,6), facecolor='grey', edgecolor='black')  "
      ],
      "execution_count": null,
      "outputs": [
        {
          "output_type": "execute_result",
          "data": {
            "text/plain": [
              "<matplotlib.axes._subplots.AxesSubplot at 0x7fe6914c8b50>"
            ]
          },
          "metadata": {
            "tags": []
          },
          "execution_count": 53
        },
        {
          "output_type": "display_data",
          "data": {
            "text/plain": [
              "<Figure size 864x432 with 1 Axes>"
            ],
            "image/png": "[encoded data removed]"
          },
          "metadata": {
            "tags": [],
            "needs_background": "light"
          }
        }
      ]
    },
    {
      "cell_type": "markdown",
      "metadata": {
        "id": "c-djl9eYm2Vs",
        "colab_type": "text"
      },
      "source": [
        "I think we are good with our initial EDA. We dont need to go any further as these features have no independence and we are using this data for classification on one of these comment category."
      ]
    },
    {
      "cell_type": "code",
      "metadata": {
        "trusted": true,
        "id": "xUFG_HFmm2Vu",
        "colab_type": "code",
        "colab": {}
      },
      "source": [
        "comment_classes = [\"toxic\", \"severe_toxic\", \"obscene\", \"threat\", \"insult\",\"identity_hate\"]\n",
        "y=train[comment_classes].values\n",
        "comment_text_train = train[\"comment_text\"]\n",
        "comment_text_test = train[\"comment_text\"]"
      ],
      "execution_count": null,
      "outputs": []
    },
    {
      "cell_type": "markdown",
      "metadata": {
        "id": "9LMSvz2Hm2V1",
        "colab_type": "text"
      },
      "source": [
        "As discussed ealrier now we will use Kera to tokenize each word and convert it to an index for the dictionary of words from wikipedia. Lets intitialize the system for 20000 words, fit to train and then convert all the comments into sequences of the index of words."
      ]
    },
    {
      "cell_type": "code",
      "metadata": {
        "trusted": true,
        "id": "1tL98FV6m2V2",
        "colab_type": "code",
        "colab": {}
      },
      "source": [
        "from keras.preprocessing.text import Tokenizer\n",
        "from keras.preprocessing.sequence import pad_sequences\n",
        "from keras.layers import Dense, Input, LSTM, Embedding, Dropout, Activation\n",
        "from keras.layers import Bidirectional, GlobalMaxPool1D\n",
        "from keras.models import Model\n",
        "from keras import initializers, regularizers, constraints, optimizers, layers\n",
        "tokenizer = Tokenizer(num_words=20000)\n",
        "tokenizer.fit_on_texts(list(comment_text_train))\n",
        "tokenized_train = tokenizer.texts_to_sequences(comment_text_train)\n",
        "tokenized_test = tokenizer.texts_to_sequences(comment_text_test)"
      ],
      "execution_count": null,
      "outputs": []
    },
    {
      "cell_type": "code",
      "metadata": {
        "trusted": true,
        "id": "v5pjvzKdm2V7",
        "colab_type": "code",
        "colab": {},
        "outputId": "13319871-08f5-4457-ce0c-6d8ed172f1c1"
      },
      "source": [
        "tokenized_train[:1]"
      ],
      "execution_count": null,
      "outputs": [
        {
          "output_type": "execute_result",
          "data": {
            "text/plain": [
              "[[688,\n",
              "  75,\n",
              "  1,\n",
              "  126,\n",
              "  130,\n",
              "  177,\n",
              "  29,\n",
              "  672,\n",
              "  4511,\n",
              "  12052,\n",
              "  1116,\n",
              "  86,\n",
              "  331,\n",
              "  51,\n",
              "  2278,\n",
              "  11448,\n",
              "  50,\n",
              "  6864,\n",
              "  15,\n",
              "  60,\n",
              "  2756,\n",
              "  148,\n",
              "  7,\n",
              "  2937,\n",
              "  34,\n",
              "  117,\n",
              "  1221,\n",
              "  15190,\n",
              "  2825,\n",
              "  4,\n",
              "  45,\n",
              "  59,\n",
              "  244,\n",
              "  1,\n",
              "  365,\n",
              "  31,\n",
              "  1,\n",
              "  38,\n",
              "  27,\n",
              "  143,\n",
              "  73,\n",
              "  3462,\n",
              "  89,\n",
              "  3085,\n",
              "  4583,\n",
              "  2273,\n",
              "  985]]"
            ]
          },
          "metadata": {
            "tags": []
          },
          "execution_count": 15
        }
      ]
    },
    {
      "cell_type": "markdown",
      "metadata": {
        "id": "IaamTs4Um2WA",
        "colab_type": "text"
      },
      "source": [
        "Since every comment can be of different length, lets calculate the length of senetence for the set."
      ]
    },
    {
      "cell_type": "code",
      "metadata": {
        "trusted": true,
        "id": "fbHNoKd-m2WB",
        "colab_type": "code",
        "colab": {},
        "outputId": "1f645cd7-b985-4b30-d8c0-c346cb1f0eb8"
      },
      "source": [
        "wordsInComment = [len(comment) for comment in tokenized_train]\n",
        "wordsInComment"
      ],
      "execution_count": null,
      "outputs": [
        {
          "output_type": "execute_result",
          "data": {
            "text/plain": [
              "[47,\n",
              " 17,\n",
              " 42,\n",
              " 114,\n",
              " 13,\n",
              " 11,\n",
              " 8,\n",
              " 19,\n",
              " 84,\n",
              " 11,\n",
              " 499,\n",
              " 11,\n",
              " 51,\n",
              " 143,\n",
              " 38,\n",
              " 104,\n",
              " 10,\n",
              " 3,\n",
              " 17,\n",
              " 76,\n",
              " 40,\n",
              " 9,\n",
              " 81,\n",
              " 13,\n",
              " 219,\n",
              " 16,\n",
              " 49,\n",
              " 58,\n",
              " 27,\n",
              " 13,\n",
              " 17,\n",
              " 11,\n",
              " 11,\n",
              " 146,\n",
              " 55,\n",
              " 141,\n",
              " 184,\n",
              " 56,\n",
              " 25,\n",
              " 206,\n",
              " 35,\n",
              " 37,\n",
              " 106,\n",
              " 8,\n",
              " 60,\n",
              " 123,\n",
              " 12,\n",
              " 19,\n",
              " 118,\n",
              " 183,\n",
              " 454,\n",
              " 24,\n",
              " 32,\n",
              " 89,\n",
              " 8,\n",
              " 19,\n",
              " 12,\n",
              " 111,\n",
              " 312,\n",
              " 66,\n",
              " 18,\n",
              " 55,\n",
              " 5,\n",
              " 164,\n",
              " 29,\n",
              " 57,\n",
              " 17,\n",
              " 30,\n",
              " 38,\n",
              " 33,\n",
              " 32,\n",
              " 61,\n",
              " 11,\n",
              " 217,\n",
              " 32,\n",
              " 9,\n",
              " 41,\n",
              " 50,\n",
              " 30,\n",
              " 13,\n",
              " 173,\n",
              " 473,\n",
              " 94,\n",
              " 53,\n",
              " 17,\n",
              " 22,\n",
              " 13,\n",
              " 8,\n",
              " 58,\n",
              " 4,\n",
              " 148,\n",
              " 69,\n",
              " 17,\n",
              " 16,\n",
              " 91,\n",
              " 92,\n",
              " 10,\n",
              " 22,\n",
              " 30,\n",
              " 51,\n",
              " 13,\n",
              " 19,\n",
              " 16,\n",
              " 76,\n",
              " 13,\n",
              " 7,\n",
              " 149,\n",
              " 104,\n",
              " 24,\n",
              " 21,\n",
              " 15,\n",
              " 8,\n",
              " 109,\n",
              " 73,\n",
              " 225,\n",
              " 10,\n",
              " 98,\n",
              " 26,\n",
              " 48,\n",
              " 7,\n",
              " 38,\n",
              " 53,\n",
              " 44,\n",
              " 30,\n",
              " 22,\n",
              " 24,\n",
              " 527,\n",
              " 32,\n",
              " 38,\n",
              " 76,\n",
              " 41,\n",
              " 27,\n",
              " 50,\n",
              " 35,\n",
              " 108,\n",
              " 34,\n",
              " 15,\n",
              " 44,\n",
              " 8,\n",
              " 8,\n",
              " 158,\n",
              " 67,\n",
              " 320,\n",
              " 56,\n",
              " 21,\n",
              " 115,\n",
              " 6,\n",
              " 36,\n",
              " 80,\n",
              " 71,\n",
              " 119,\n",
              " 92,\n",
              " 10,\n",
              " 79,\n",
              " 18,\n",
              " 40,\n",
              " 25,\n",
              " 52,\n",
              " 41,\n",
              " 18,\n",
              " 538,\n",
              " 41,\n",
              " 418,\n",
              " 15,\n",
              " 28,\n",
              " 31,\n",
              " 115,\n",
              " 152,\n",
              " 26,\n",
              " 65,\n",
              " 57,\n",
              " 10,\n",
              " 75,\n",
              " 5,\n",
              " 32,\n",
              " 5,\n",
              " 26,\n",
              " 13,\n",
              " 18,\n",
              " 126,\n",
              " 226,\n",
              " 10,\n",
              " 6,\n",
              " 35,\n",
              " 24,\n",
              " 25,\n",
              " 22,\n",
              " 18,\n",
              " 46,\n",
              " 41,\n",
              " 46,\n",
              " 66,\n",
              " 44,\n",
              " 14,\n",
              " 9,\n",
              " 47,\n",
              " 33,\n",
              " 119,\n",
              " 85,\n",
              " 18,\n",
              " 114,\n",
              " 63,\n",
              " 15,\n",
              " 63,\n",
              " 97,\n",
              " 59,\n",
              " 105,\n",
              " 71,\n",
              " 15,\n",
              " 12,\n",
              " 16,\n",
              " 7,\n",
              " 66,\n",
              " 184,\n",
              " 646,\n",
              " 28,\n",
              " 18,\n",
              " 11,\n",
              " 20,\n",
              " 74,\n",
              " 78,\n",
              " 45,\n",
              " 62,\n",
              " 5,\n",
              " 9,\n",
              " 78,\n",
              " 7,\n",
              " 31,\n",
              " 18,\n",
              " 148,\n",
              " 192,\n",
              " 21,\n",
              " 82,\n",
              " 31,\n",
              " 141,\n",
              " 22,\n",
              " 58,\n",
              " 31,\n",
              " 15,\n",
              " 88,\n",
              " 289,\n",
              " 3,\n",
              " 32,\n",
              " 36,\n",
              " 49,\n",
              " 14,\n",
              " 7,\n",
              " 8,\n",
              " 15,\n",
              " 146,\n",
              " 8,\n",
              " 16,\n",
              " 54,\n",
              " 24,\n",
              " 7,\n",
              " 89,\n",
              " 60,\n",
              " 39,\n",
              " 7,\n",
              " 6,\n",
              " 341,\n",
              " 175,\n",
              " 125,\n",
              " 13,\n",
              " 68,\n",
              " 19,\n",
              " 10,\n",
              " 25,\n",
              " 6,\n",
              " 41,\n",
              " 112,\n",
              " 85,\n",
              " 52,\n",
              " 96,\n",
              " 54,\n",
              " 72,\n",
              " 5,\n",
              " 11,\n",
              " 41,\n",
              " 38,\n",
              " 76,\n",
              " 6,\n",
              " 9,\n",
              " 19,\n",
              " 17,\n",
              " 22,\n",
              " 16,\n",
              " 158,\n",
              " 61,\n",
              " 10,\n",
              " 46,\n",
              " 39,\n",
              " 57,\n",
              " 23,\n",
              " 21,\n",
              " 11,\n",
              " 14,\n",
              " 73,\n",
              " 18,\n",
              " 3,\n",
              " 18,\n",
              " 17,\n",
              " 50,\n",
              " 27,\n",
              " 112,\n",
              " 31,\n",
              " 9,\n",
              " 23,\n",
              " 27,\n",
              " 35,\n",
              " 46,\n",
              " 36,\n",
              " 8,\n",
              " 92,\n",
              " 30,\n",
              " 27,\n",
              " 11,\n",
              " 24,\n",
              " 33,\n",
              " 11,\n",
              " 7,\n",
              " 634,\n",
              " 19,\n",
              " 4,\n",
              " 13,\n",
              " 16,\n",
              " 102,\n",
              " 7,\n",
              " 18,\n",
              " 31,\n",
              " 40,\n",
              " 12,\n",
              " 23,\n",
              " 14,\n",
              " 38,\n",
              " 68,\n",
              " 14,\n",
              " 56,\n",
              " 11,\n",
              " 17,\n",
              " 51,\n",
              " 71,\n",
              " 54,\n",
              " 24,\n",
              " 14,\n",
              " 33,\n",
              " 61,\n",
              " 57,\n",
              " 220,\n",
              " 7,\n",
              " 20,\n",
              " 8,\n",
              " 51,\n",
              " 54,\n",
              " 162,\n",
              " 8,\n",
              " 27,\n",
              " 21,\n",
              " 8,\n",
              " 15,\n",
              " 18,\n",
              " 72,\n",
              " 10,\n",
              " 221,\n",
              " 40,\n",
              " 16,\n",
              " 39,\n",
              " 55,\n",
              " 23,\n",
              " 16,\n",
              " 110,\n",
              " 29,\n",
              " 10,\n",
              " 9,\n",
              " 72,\n",
              " 69,\n",
              " 6,\n",
              " 44,\n",
              " 16,\n",
              " 149,\n",
              " 68,\n",
              " 6,\n",
              " 103,\n",
              " 105,\n",
              " 24,\n",
              " 17,\n",
              " 16,\n",
              " 68,\n",
              " 72,\n",
              " 20,\n",
              " 12,\n",
              " 81,\n",
              " 47,\n",
              " 90,\n",
              " 55,\n",
              " 38,\n",
              " 18,\n",
              " 4,\n",
              " 134,\n",
              " 41,\n",
              " 15,\n",
              " 59,\n",
              " 27,\n",
              " 138,\n",
              " 14,\n",
              " 32,\n",
              " 77,\n",
              " 132,\n",
              " 4,\n",
              " 102,\n",
              " 6,\n",
              " 24,\n",
              " 46,\n",
              " 97,\n",
              " 45,\n",
              " 114,\n",
              " 47,\n",
              " 41,\n",
              " 23,\n",
              " 87,\n",
              " 107,\n",
              " 110,\n",
              " 14,\n",
              " 7,\n",
              " 121,\n",
              " 141,\n",
              " 68,\n",
              " 66,\n",
              " 97,\n",
              " 24,\n",
              " 336,\n",
              " 33,\n",
              " 26,\n",
              " 35,\n",
              " 11,\n",
              " 25,\n",
              " 12,\n",
              " 26,\n",
              " 116,\n",
              " 10,\n",
              " 70,\n",
              " 70,\n",
              " 9,\n",
              " 34,\n",
              " 80,\n",
              " 6,\n",
              " 86,\n",
              " 55,\n",
              " 7,\n",
              " 45,\n",
              " 163,\n",
              " 8,\n",
              " 28,\n",
              " 122,\n",
              " 80,\n",
              " 124,\n",
              " 18,\n",
              " 34,\n",
              " 105,\n",
              " 95,\n",
              " 299,\n",
              " 25,\n",
              " 18,\n",
              " 28,\n",
              " 46,\n",
              " 3,\n",
              " 16,\n",
              " 10,\n",
              " 26,\n",
              " 13,\n",
              " 6,\n",
              " 10,\n",
              " 11,\n",
              " 35,\n",
              " 78,\n",
              " 10,\n",
              " 101,\n",
              " 38,\n",
              " 29,\n",
              " 87,\n",
              " 24,\n",
              " 137,\n",
              " 244,\n",
              " 33,\n",
              " 575,\n",
              " 143,\n",
              " 16,\n",
              " 50,\n",
              " 46,\n",
              " 110,\n",
              " 250,\n",
              " 11,\n",
              " 39,\n",
              " 31,\n",
              " 15,\n",
              " 58,\n",
              " 135,\n",
              " 10,\n",
              " 39,\n",
              " 49,\n",
              " 73,\n",
              " 17,\n",
              " 55,\n",
              " 13,\n",
              " 6,\n",
              " 97,\n",
              " 62,\n",
              " 22,\n",
              " 48,\n",
              " 79,\n",
              " 13,\n",
              " 17,\n",
              " 70,\n",
              " 16,\n",
              " 112,\n",
              " 35,\n",
              " 53,\n",
              " 70,\n",
              " 28,\n",
              " 130,\n",
              " 11,\n",
              " 58,\n",
              " 144,\n",
              " 175,\n",
              " 62,\n",
              " 22,\n",
              " 30,\n",
              " 18,\n",
              " 60,\n",
              " 28,\n",
              " 196,\n",
              " 13,\n",
              " 142,\n",
              " 96,\n",
              " 28,\n",
              " 30,\n",
              " 9,\n",
              " 60,\n",
              " 9,\n",
              " 5,\n",
              " 24,\n",
              " 73,\n",
              " 213,\n",
              " 123,\n",
              " 73,\n",
              " 6,\n",
              " 59,\n",
              " 12,\n",
              " 80,\n",
              " 23,\n",
              " 435,\n",
              " 124,\n",
              " 31,\n",
              " 16,\n",
              " 211,\n",
              " 45,\n",
              " 14,\n",
              " 646,\n",
              " 23,\n",
              " 12,\n",
              " 80,\n",
              " 107,\n",
              " 7,\n",
              " 44,\n",
              " 36,\n",
              " 74,\n",
              " 304,\n",
              " 127,\n",
              " 134,\n",
              " 34,\n",
              " 90,\n",
              " 53,\n",
              " 31,\n",
              " 93,\n",
              " 56,\n",
              " 57,\n",
              " 274,\n",
              " 11,\n",
              " 97,\n",
              " 10,\n",
              " 60,\n",
              " 340,\n",
              " 8,\n",
              " 66,\n",
              " 770,\n",
              " 42,\n",
              " 22,\n",
              " 39,\n",
              " 36,\n",
              " 39,\n",
              " 73,\n",
              " 13,\n",
              " 4,\n",
              " 54,\n",
              " 100,\n",
              " 9,\n",
              " 122,\n",
              " 61,\n",
              " 27,\n",
              " 34,\n",
              " 23,\n",
              " 254,\n",
              " 17,\n",
              " 33,\n",
              " 49,\n",
              " 15,\n",
              " 15,\n",
              " 112,\n",
              " 60,\n",
              " 18,\n",
              " 20,\n",
              " 21,\n",
              " 7,\n",
              " 45,\n",
              " 57,\n",
              " 75,\n",
              " 110,\n",
              " 111,\n",
              " 49,\n",
              " 49,\n",
              " 72,\n",
              " 19,\n",
              " 106,\n",
              " 38,\n",
              " 19,\n",
              " 91,\n",
              " 16,\n",
              " 5,\n",
              " 26,\n",
              " 43,\n",
              " 114,\n",
              " 20,\n",
              " 4,\n",
              " 37,\n",
              " 59,\n",
              " 595,\n",
              " 65,\n",
              " 98,\n",
              " 12,\n",
              " 42,\n",
              " 26,\n",
              " 198,\n",
              " 62,\n",
              " 15,\n",
              " 32,\n",
              " 128,\n",
              " 8,\n",
              " 69,\n",
              " 134,\n",
              " 136,\n",
              " 8,\n",
              " 38,\n",
              " 24,\n",
              " 58,\n",
              " 21,\n",
              " 8,\n",
              " 27,\n",
              " 13,\n",
              " 286,\n",
              " 15,\n",
              " 14,\n",
              " 692,\n",
              " 57,\n",
              " 24,\n",
              " 14,\n",
              " 35,\n",
              " 88,\n",
              " 25,\n",
              " 223,\n",
              " 362,\n",
              " 27,\n",
              " 106,\n",
              " 9,\n",
              " 21,\n",
              " 78,\n",
              " 34,\n",
              " 8,\n",
              " 110,\n",
              " 10,\n",
              " 53,\n",
              " 34,\n",
              " 61,\n",
              " 166,\n",
              " 33,\n",
              " 35,\n",
              " 27,\n",
              " 79,\n",
              " 8,\n",
              " 156,\n",
              " 19,\n",
              " 51,\n",
              " 22,\n",
              " 61,\n",
              " 111,\n",
              " 126,\n",
              " 114,\n",
              " 217,\n",
              " 321,\n",
              " 36,\n",
              " 122,\n",
              " 33,\n",
              " 27,\n",
              " 5,\n",
              " 47,\n",
              " 28,\n",
              " 77,\n",
              " 17,\n",
              " 200,\n",
              " 63,\n",
              " 29,\n",
              " 163,\n",
              " 39,\n",
              " 67,\n",
              " 74,\n",
              " 112,\n",
              " 7,\n",
              " 63,\n",
              " 22,\n",
              " 7,\n",
              " 13,\n",
              " 168,\n",
              " 184,\n",
              " 16,\n",
              " 96,\n",
              " 20,\n",
              " 6,\n",
              " 12,\n",
              " 22,\n",
              " 5,\n",
              " 57,\n",
              " 12,\n",
              " 31,\n",
              " 75,\n",
              " 161,\n",
              " 27,\n",
              " 45,\n",
              " 61,\n",
              " 92,\n",
              " 73,\n",
              " 17,\n",
              " 146,\n",
              " 27,\n",
              " 13,\n",
              " 4,\n",
              " 81,\n",
              " 7,\n",
              " 236,\n",
              " 29,\n",
              " 17,\n",
              " 7,\n",
              " 27,\n",
              " 73,\n",
              " 16,\n",
              " 83,\n",
              " 25,\n",
              " 13,\n",
              " 6,\n",
              " 101,\n",
              " 2,\n",
              " 83,\n",
              " 282,\n",
              " 352,\n",
              " 48,\n",
              " 279,\n",
              " 479,\n",
              " 23,\n",
              " 113,\n",
              " 34,\n",
              " 48,\n",
              " 19,\n",
              " 25,\n",
              " 13,\n",
              " 13,\n",
              " 36,\n",
              " 18,\n",
              " 18,\n",
              " 61,\n",
              " 82,\n",
              " 28,\n",
              " 28,\n",
              " 673,\n",
              " 17,\n",
              " 16,\n",
              " 22,\n",
              " 130,\n",
              " 19,\n",
              " 105,\n",
              " 4,\n",
              " 223,\n",
              " 38,\n",
              " 25,\n",
              " 333,\n",
              " 56,\n",
              " 196,\n",
              " 45,\n",
              " 28,\n",
              " 43,\n",
              " 39,\n",
              " 140,\n",
              " 9,\n",
              " 8,\n",
              " 36,\n",
              " 17,\n",
              " 23,\n",
              " 78,\n",
              " 183,\n",
              " 7,\n",
              " 4,\n",
              " 99,\n",
              " 50,\n",
              " 8,\n",
              " 15,\n",
              " 24,\n",
              " 83,\n",
              " 5,\n",
              " 30,\n",
              " 48,\n",
              " 59,\n",
              " 78,\n",
              " 9,\n",
              " 90,\n",
              " 17,\n",
              " 40,\n",
              " 5,\n",
              " 6,\n",
              " 43,\n",
              " 363,\n",
              " 16,\n",
              " 11,\n",
              " 6,\n",
              " 9,\n",
              " 10,\n",
              " 8,\n",
              " 118,\n",
              " 64,\n",
              " 508,\n",
              " 17,\n",
              " 20,\n",
              " 46,\n",
              " 152,\n",
              " 36,\n",
              " 39,\n",
              " 70,\n",
              " 105,\n",
              " 4,\n",
              " 53,\n",
              " 115,\n",
              " 21,\n",
              " 22,\n",
              " 8,\n",
              " 33,\n",
              " 9,\n",
              " 7,\n",
              " 39,\n",
              " 97,\n",
              " 134,\n",
              " 10,\n",
              " 135,\n",
              " 14,\n",
              " 4,\n",
              " 85,\n",
              " 96,\n",
              " 36,\n",
              " 38,\n",
              " 772,\n",
              " 21,\n",
              " 73,\n",
              " 26,\n",
              " 47,\n",
              " 40,\n",
              " 7,\n",
              " 146,\n",
              " 103,\n",
              " 65,\n",
              " 5,\n",
              " 36,\n",
              " 34,\n",
              " 5,\n",
              " 36,\n",
              " 10,\n",
              " 15,\n",
              " 65,\n",
              " 75,\n",
              " 5,\n",
              " 84,\n",
              " 26,\n",
              " 8,\n",
              " 29,\n",
              " 24,\n",
              " 12,\n",
              " 106,\n",
              " 68,\n",
              " 229,\n",
              " 276,\n",
              " 54,\n",
              " 25,\n",
              " 22,\n",
              " 6,\n",
              " 43,\n",
              " 4,\n",
              " 24,\n",
              " 224,\n",
              " 72,\n",
              " 123,\n",
              " 532,\n",
              " 20,\n",
              " 7,\n",
              " 194,\n",
              " 87,\n",
              " 46,\n",
              " 45,\n",
              " 26,\n",
              " 12,\n",
              " 4,\n",
              " 37,\n",
              " 16,\n",
              " 8,\n",
              " 9,\n",
              " 23,\n",
              " 11,\n",
              " 114,\n",
              " 15,\n",
              " 118,\n",
              " 4,\n",
              " 23,\n",
              " 35,\n",
              " 32,\n",
              " 16,\n",
              " 47,\n",
              " 27,\n",
              " 27,\n",
              " 28,\n",
              " 49,\n",
              " 84,\n",
              " 82,\n",
              " 17,\n",
              " 143,\n",
              " 19,\n",
              " 6,\n",
              " 18,\n",
              " 199,\n",
              " 30,\n",
              " 36,\n",
              " 76,\n",
              " 183,\n",
              " 125,\n",
              " 120,\n",
              " 10,\n",
              " 197,\n",
              " 20,\n",
              " 23,\n",
              " 55,\n",
              " 21,\n",
              " 11,\n",
              " 51,\n",
              " 200,\n",
              " 51,\n",
              " 29,\n",
              " 101,\n",
              " 27,\n",
              " 12,\n",
              " 22,\n",
              " 31,\n",
              " 30,\n",
              " 56,\n",
              " 29,\n",
              " 192,\n",
              " 123,\n",
              " 80,\n",
              " 44,\n",
              " 57,\n",
              " 3,\n",
              " 45,\n",
              " 62,\n",
              " 110,\n",
              " 19,\n",
              " 23,\n",
              " 138,\n",
              " 97,\n",
              " 104,\n",
              " 20,\n",
              " 85,\n",
              " 44,\n",
              " 179,\n",
              " 17,\n",
              " 25,\n",
              " 180,\n",
              " 23,\n",
              " 21,\n",
              " 105,\n",
              " 10,\n",
              " 44,\n",
              " 31,\n",
              " 9,\n",
              " 9,\n",
              " 356,\n",
              " 74,\n",
              " 97,\n",
              " 175,\n",
              " 21,\n",
              " ...]"
            ]
          },
          "metadata": {
            "tags": []
          },
          "execution_count": 17
        }
      ]
    },
    {
      "cell_type": "markdown",
      "metadata": {
        "id": "pVQC83Pim2WG",
        "colab_type": "text"
      },
      "source": [
        "LEts visualize the comment lengths now"
      ]
    },
    {
      "cell_type": "code",
      "metadata": {
        "trusted": true,
        "id": "Oz02aWpdm2WH",
        "colab_type": "code",
        "colab": {},
        "outputId": "d373eaac-b12d-4b57-db30-e671c054f5c1"
      },
      "source": [
        "import matplotlib.pyplot as plt\n",
        "plt.hist(wordsInComment, bins = np.arange(0,300,10))"
      ],
      "execution_count": null,
      "outputs": [
        {
          "output_type": "execute_result",
          "data": {
            "text/plain": [
              "(array([21439., 27127., 22176., 16223., 12859., 10062.,  7586.,  5991.,\n",
              "         4731.,  3914.,  3129.,  2820.,  2306.,  1896.,  1647.,  1455.,\n",
              "         1329.,  1287.,  1013.,   857.,   750.,   799.,   528.,   581.,\n",
              "          486.,   437.,   407.,   373.,   416.]),\n",
              " array([  0,  10,  20,  30,  40,  50,  60,  70,  80,  90, 100, 110, 120,\n",
              "        130, 140, 150, 160, 170, 180, 190, 200, 210, 220, 230, 240, 250,\n",
              "        260, 270, 280, 290]),\n",
              " <a list of 29 Patch objects>)"
            ]
          },
          "metadata": {
            "tags": []
          },
          "execution_count": 22
        },
        {
          "output_type": "display_data",
          "data": {
            "text/plain": [
              "<Figure size 432x288 with 1 Axes>"
            ],
            "image/png": "[encoded data removed]"
          },
          "metadata": {
            "tags": [],
            "needs_background": "light"
          }
        }
      ]
    },
    {
      "cell_type": "markdown",
      "metadata": {
        "id": "G0755E_Cm2WM",
        "colab_type": "text"
      },
      "source": [
        "Which shows must comments are approximately 20 -40 words. Lets consider 200 as max words. We may have to know padd to fill the rest of the comment with empty text so that the length is constant for the model."
      ]
    },
    {
      "cell_type": "code",
      "metadata": {
        "trusted": true,
        "id": "7I1ULOJim2WN",
        "colab_type": "code",
        "colab": {}
      },
      "source": [
        "X_t = pad_sequences(tokenized_train, maxlen=200)\n",
        "X_te = pad_sequences(tokenized_test, maxlen=200)"
      ],
      "execution_count": null,
      "outputs": []
    },
    {
      "cell_type": "markdown",
      "metadata": {
        "id": "ojuKNZilm2WT",
        "colab_type": "text"
      },
      "source": [
        "Now we define a input as list of comments with length 200"
      ]
    },
    {
      "cell_type": "code",
      "metadata": {
        "trusted": true,
        "id": "k6xZ_0WJm2WU",
        "colab_type": "code",
        "colab": {}
      },
      "source": [
        "inp = Input(shape=(200, ))\n",
        "embed_size = 128\n",
        "x = Embedding(20000, embed_size)(inp)"
      ],
      "execution_count": null,
      "outputs": []
    },
    {
      "cell_type": "code",
      "metadata": {
        "trusted": true,
        "id": "YRGXsIc2m2WZ",
        "colab_type": "code",
        "colab": {}
      },
      "source": [
        "x = LSTM(60, return_sequences=True,name='lstm_layer')(x)\n",
        "x = GlobalMaxPool1D()(x)\n",
        "x = Dropout(0.1)(x)\n",
        "x = Dense(50, activation=\"relu\")(x)\n",
        "x = Dropout(0.1)(x)\n",
        "x = Dense(6, activation=\"sigmoid\")(x)\n"
      ],
      "execution_count": null,
      "outputs": []
    },
    {
      "cell_type": "markdown",
      "metadata": {
        "id": "J91ivdRKnL5t",
        "colab_type": "text"
      },
      "source": [
        "Utilizing a cross entorpy with adam optimizer model"
      ]
    },
    {
      "cell_type": "code",
      "metadata": {
        "trusted": true,
        "id": "zJQ523iUm2Wt",
        "colab_type": "code",
        "colab": {}
      },
      "source": [
        "model = Model(inputs=inp, outputs=x)\n",
        "model.compile(loss='binary_crossentropy',\n",
        "                  optimizer='adam',\n",
        "                  metrics=['accuracy'])"
      ],
      "execution_count": null,
      "outputs": []
    },
    {
      "cell_type": "markdown",
      "metadata": {
        "id": "OBnvNf9dnNS3",
        "colab_type": "text"
      },
      "source": [
        "Selecting a batch size of 32 and iteration/epoch 2"
      ]
    },
    {
      "cell_type": "code",
      "metadata": {
        "trusted": true,
        "id": "to54fmcSm2W0",
        "colab_type": "code",
        "colab": {},
        "outputId": "ff6c72e2-958b-46b2-a273-7e4005fcddae"
      },
      "source": [
        "batch_size = 32\n",
        "epochs = 2\n",
        "model.fit(X_t,y, batch_size=batch_size, epochs=epochs, validation_split=0.1)"
      ],
      "execution_count": null,
      "outputs": [
        {
          "output_type": "stream",
          "text": [
            "Epoch 1/2\n",
            "4488/4488 [==============================] - 671s 150ms/step - loss: 0.0732 - accuracy: 0.9409 - val_loss: 0.0489 - val_accuracy: 0.9940\n",
            "Epoch 2/2\n",
            "4488/4488 [==============================] - 653s 146ms/step - loss: 0.0454 - accuracy: 0.9897 - val_loss: 0.0475 - val_accuracy: 0.9928\n"
          ],
          "name": "stdout"
        },
        {
          "output_type": "execute_result",
          "data": {
            "text/plain": [
              "<tensorflow.python.keras.callbacks.History at 0x7f935c7b4ed0>"
            ]
          },
          "metadata": {
            "tags": []
          },
          "execution_count": 35
        }
      ]
    },
    {
      "cell_type": "markdown",
      "metadata": {
        "id": "kLscCC_HnUrF",
        "colab_type": "text"
      },
      "source": [
        "We can see that the model is validated with a classification accuracy of 99.28  %. "
      ]
    }
  ]
}